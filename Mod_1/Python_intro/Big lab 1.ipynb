{
 "cells": [
  {
   "cell_type": "code",
   "execution_count": 4,
   "metadata": {},
   "outputs": [
    {
     "name": "stdout",
     "output_type": "stream",
     "text": [
      "not weird\n"
     ]
    }
   ],
   "source": [
    "def weirdness(n):\n",
    "    if n % 2 == 1:\n",
    "        print('weird')\n",
    "    elif n % 2 == 0 and n in range(2,6):\n",
    "        print('not weird')\n",
    "    elif n % 2 == 0 and n in range(6,21):\n",
    "        print('weird')\n",
    "    elif n % 2 == 0 and n > 20:\n",
    "        print('not weird')"
   ]
  },
  {
   "cell_type": "code",
   "execution_count": null,
   "metadata": {},
   "outputs": [],
   "source": [
    "if 'The Beatles' in  dict\n",
    "if dict['The Beatles'] in dict"
   ]
  }
 ],
 "metadata": {
  "kernelspec": {
   "display_name": "Python 3",
   "language": "python",
   "name": "python3"
  },
  "language_info": {
   "codemirror_mode": {
    "name": "ipython",
    "version": 3
   },
   "file_extension": ".py",
   "mimetype": "text/x-python",
   "name": "python",
   "nbconvert_exporter": "python",
   "pygments_lexer": "ipython3",
   "version": "3.7.4"
  }
 },
 "nbformat": 4,
 "nbformat_minor": 2
}
